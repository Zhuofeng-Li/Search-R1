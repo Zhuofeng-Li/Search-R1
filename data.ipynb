{
 "cells": [
  {
   "cell_type": "code",
   "execution_count": 3,
   "metadata": {},
   "outputs": [
    {
     "data": {
      "text/plain": [
       "False"
      ]
     },
     "execution_count": 3,
     "metadata": {},
     "output_type": "execute_result"
    }
   ],
   "source": [
    "from math_verify import parse, verify\n",
    "\n",
    "gold = parse(\"\\\\frac{\\sqrt{3}}{3}\")\n",
    "answer = parse(\"sqrt(3)/3\")\n",
    "\n",
    "# Order here is important!\n",
    "verify(gold, answer)"
   ]
  },
  {
   "cell_type": "code",
   "execution_count": 15,
   "metadata": {},
   "outputs": [
    {
     "data": {
      "text/plain": [
       "([sqrt(3)/3, '\\\\frac{\\\\sqrt{3}}{3}'], [sqrt(3)/3, '\\\\frac{\\\\sqrt{3}}{3}'])"
      ]
     },
     "execution_count": 15,
     "metadata": {},
     "output_type": "execute_result"
    }
   ],
   "source": [
    "gold, answer"
   ]
  },
  {
   "cell_type": "code",
   "execution_count": null,
   "metadata": {},
   "outputs": [],
   "source": [
    "from vllm import LLM\n",
    "from vllm.sampling_params import SamplingParams\n",
    "\n",
    "sampling_params = SamplingParams(max_tokens=8192, temperature=0.0)\n",
    "llm = LLM(model=\"Qwen/Qwen2.5-3B-Instruct\", tensor_parallel_size=4)"
   ]
  },
  {
   "cell_type": "code",
   "execution_count": 12,
   "metadata": {},
   "outputs": [
    {
     "name": "stderr",
     "output_type": "stream",
     "text": [
      "Processed prompts: 100%|██████████| 1/1 [00:01<00:00,  1.80s/it, est. speed input: 50.59 toks/s, output: 131.21 toks/s]\n"
     ]
    }
   ],
   "source": [
    "\n",
    "# Generate text\n",
    "\n",
    "question = \"If point $P(a, b)$ is on the graph of the function $y = -x^2 + 3\\ln x$ and point $Q(c, d)$ is on the graph of the function $y = x + 2$, find the minimum value of $|PQ|$.\"\n",
    "\n",
    "prefix = f\"\"\"Answer the following question. \n",
    "You must conduct reasoning inside <think> and </think>. \n",
    "If, during reasoning, you determine that calculations or logical operations are needed, \n",
    "write Python code inside <python> and </python> to call the Python interpreter, ensuring that the desired result is placed inside the print function to interact with the Python interpreter. \n",
    "The output of the print function or any error message will be captured and returned between <result> and </result>..\n",
    "You can use the Python interpreter as many times as necessary. \n",
    "If no further calculations or logical operations are required, provide the final answer directly inside <answer> and </answer> without detailed explanations. \n",
    "For example: <answer>42</answer> Question: {question}\\n\"\"\"\n",
    "\n",
    "\n",
    "messages = [{\n",
    "    \"role\":\n",
    "    \"user\",\n",
    "    \"content\":\n",
    "    f\"{prefix}\",\n",
    "}]\n",
    "\n",
    "outputs = llm.chat(messages, sampling_params=sampling_params)\n",
    "output = outputs[0].outputs[0].text.strip()"
   ]
  },
  {
   "cell_type": "code",
   "execution_count": null,
   "metadata": {},
   "outputs": [],
   "source": []
  },
  {
   "cell_type": "code",
   "execution_count": 13,
   "metadata": {},
   "outputs": [
    {
     "data": {
      "text/plain": [
       "\"It seems like you're trying to solve an equation involving a function of \\\\(a\\\\), but the error message suggests that the equation is too complex for the solver to handle directly. The equation you provided is:\\n\\n\\\\[ a(a^2 + a - 3\\\\log(a) + 2) + 2(3 - 2a^2)\\\\left(-\\\\frac{a^2}{2} - \\\\frac{a}{2} + \\\\frac{3\\\\log(a)}{2} - 1\\\\right) = 0 \\\\]\\n\\nThis equation is quite complex and involves both polynomial and logarithmic terms. Solvers like the one used by the system might struggle with such complexity.\\n\\nIf you're looking for specific values of \\\\(a\\\\) that satisfy this equation, you might need to use numerical methods or specific mathematical techniques. Alternatively, you could try simplifying the equation or breaking it down into simpler parts to see if you can find a solution.\\n\\nIf you have a specific value in mind for \\\\(a\\\\) or if you need to solve a simpler version of this equation, please provide more details, and I'll be happy to help further.\""
      ]
     },
     "execution_count": 13,
     "metadata": {},
     "output_type": "execute_result"
    }
   ],
   "source": [
    "output"
   ]
  },
  {
   "cell_type": "markdown",
   "metadata": {},
   "source": []
  },
  {
   "cell_type": "code",
   "execution_count": null,
   "metadata": {},
   "outputs": [],
   "source": []
  },
  {
   "cell_type": "code",
   "execution_count": 1,
   "metadata": {},
   "outputs": [],
   "source": [
    "import pandas as pd"
   ]
  },
  {
   "cell_type": "code",
   "execution_count": 2,
   "metadata": {},
   "outputs": [],
   "source": [
    "paraquest_file = '/home/zhuofeng/Search-R1/data/big_math/train.parquet'\n",
    "df = pd.read_parquet(paraquest_file)"
   ]
  },
  {
   "cell_type": "code",
   "execution_count": 6,
   "metadata": {},
   "outputs": [],
   "source": [
    "paraquest_file = '/home/zhuofeng/Search-R1/data/nq_search/train.parquet'\n",
    "df_1 = pd.read_parquet(paraquest_file)"
   ]
  },
  {
   "cell_type": "code",
   "execution_count": 5,
   "metadata": {},
   "outputs": [
    {
     "data": {
      "text/html": [
       "<div>\n",
       "<style scoped>\n",
       "    .dataframe tbody tr th:only-of-type {\n",
       "        vertical-align: middle;\n",
       "    }\n",
       "\n",
       "    .dataframe tbody tr th {\n",
       "        vertical-align: top;\n",
       "    }\n",
       "\n",
       "    .dataframe thead th {\n",
       "        text-align: right;\n",
       "    }\n",
       "</style>\n",
       "<table border=\"1\" class=\"dataframe\">\n",
       "  <thead>\n",
       "    <tr style=\"text-align: right;\">\n",
       "      <th></th>\n",
       "      <th>problem</th>\n",
       "      <th>answer</th>\n",
       "      <th>source</th>\n",
       "      <th>domain</th>\n",
       "      <th>llama8b_solve_rate</th>\n",
       "      <th>data_source</th>\n",
       "      <th>prompt</th>\n",
       "      <th>ability</th>\n",
       "      <th>reward_model</th>\n",
       "      <th>extra_info</th>\n",
       "    </tr>\n",
       "  </thead>\n",
       "  <tbody>\n",
       "    <tr>\n",
       "      <th>0</th>\n",
       "      <td>Given $p$: $|4x-3|\\leqslant 1$ and $q$: $x^{2}...</td>\n",
       "      <td>[0, \\\\frac{1}{2}]</td>\n",
       "      <td>cn_k12</td>\n",
       "      <td>[Mathematics -&gt; Algebra -&gt; Equations and Inequ...</td>\n",
       "      <td>0.125000</td>\n",
       "      <td>big_math</td>\n",
       "      <td>[{'content': 'Answer the following question. \n",
       "...</td>\n",
       "      <td>math</td>\n",
       "      <td>{'ground_truth': {'target': '[0, \\\\frac{1}{2}]...</td>\n",
       "      <td>{'index': 0, 'split': 'train'}</td>\n",
       "    </tr>\n",
       "    <tr>\n",
       "      <th>1</th>\n",
       "      <td>In acute triangle $\\triangle ABC$, the sides o...</td>\n",
       "      <td>\\\\sqrt{21}</td>\n",
       "      <td>cn_k12</td>\n",
       "      <td>[Mathematics -&gt; Geometry -&gt; Plane Geometry -&gt; ...</td>\n",
       "      <td>0.359375</td>\n",
       "      <td>big_math</td>\n",
       "      <td>[{'content': 'Answer the following question. \n",
       "...</td>\n",
       "      <td>math</td>\n",
       "      <td>{'ground_truth': {'target': '\\\\sqrt{21}'}, 'st...</td>\n",
       "      <td>{'index': 1, 'split': 'train'}</td>\n",
       "    </tr>\n",
       "    <tr>\n",
       "      <th>2</th>\n",
       "      <td>If the linear function is $y=2x-3$, and it is ...</td>\n",
       "      <td>y = 2x</td>\n",
       "      <td>cn_k12</td>\n",
       "      <td>[Mathematics -&gt; Algebra -&gt; Algebraic Expressio...</td>\n",
       "      <td>0.531250</td>\n",
       "      <td>big_math</td>\n",
       "      <td>[{'content': 'Answer the following question. \n",
       "...</td>\n",
       "      <td>math</td>\n",
       "      <td>{'ground_truth': {'target': 'y = 2x'}, 'style'...</td>\n",
       "      <td>{'index': 2, 'split': 'train'}</td>\n",
       "    </tr>\n",
       "    <tr>\n",
       "      <th>3</th>\n",
       "      <td>The sum of the first three terms of a geometri...</td>\n",
       "      <td>-2 \\\\text{ or } 1</td>\n",
       "      <td>cn_k12</td>\n",
       "      <td>[Mathematics -&gt; Algebra -&gt; Sequences and Series]</td>\n",
       "      <td>0.781250</td>\n",
       "      <td>big_math</td>\n",
       "      <td>[{'content': 'Answer the following question. \n",
       "...</td>\n",
       "      <td>math</td>\n",
       "      <td>{'ground_truth': {'target': '-2 \\\\text{ or } 1...</td>\n",
       "      <td>{'index': 3, 'split': 'train'}</td>\n",
       "    </tr>\n",
       "    <tr>\n",
       "      <th>4</th>\n",
       "      <td>If point $P(a, b)$ is on the graph of the func...</td>\n",
       "      <td>2\\\\sqrt{2}</td>\n",
       "      <td>cn_k12</td>\n",
       "      <td>[Mathematics -&gt; Calculus -&gt; Applications of De...</td>\n",
       "      <td>0.000000</td>\n",
       "      <td>big_math</td>\n",
       "      <td>[{'content': 'Answer the following question. \n",
       "...</td>\n",
       "      <td>math</td>\n",
       "      <td>{'ground_truth': {'target': '2\\\\sqrt{2}'}, 'st...</td>\n",
       "      <td>{'index': 4, 'split': 'train'}</td>\n",
       "    </tr>\n",
       "  </tbody>\n",
       "</table>\n",
       "</div>"
      ],
      "text/plain": [
       "                                             problem             answer  \\\n",
       "0  Given $p$: $|4x-3|\\leqslant 1$ and $q$: $x^{2}...  [0, \\\\frac{1}{2}]   \n",
       "1  In acute triangle $\\triangle ABC$, the sides o...         \\\\sqrt{21}   \n",
       "2  If the linear function is $y=2x-3$, and it is ...             y = 2x   \n",
       "3  The sum of the first three terms of a geometri...  -2 \\\\text{ or } 1   \n",
       "4  If point $P(a, b)$ is on the graph of the func...         2\\\\sqrt{2}   \n",
       "\n",
       "   source                                             domain  \\\n",
       "0  cn_k12  [Mathematics -> Algebra -> Equations and Inequ...   \n",
       "1  cn_k12  [Mathematics -> Geometry -> Plane Geometry -> ...   \n",
       "2  cn_k12  [Mathematics -> Algebra -> Algebraic Expressio...   \n",
       "3  cn_k12   [Mathematics -> Algebra -> Sequences and Series]   \n",
       "4  cn_k12  [Mathematics -> Calculus -> Applications of De...   \n",
       "\n",
       "   llama8b_solve_rate data_source  \\\n",
       "0            0.125000    big_math   \n",
       "1            0.359375    big_math   \n",
       "2            0.531250    big_math   \n",
       "3            0.781250    big_math   \n",
       "4            0.000000    big_math   \n",
       "\n",
       "                                              prompt ability  \\\n",
       "0  [{'content': 'Answer the following question. \n",
       "...    math   \n",
       "1  [{'content': 'Answer the following question. \n",
       "...    math   \n",
       "2  [{'content': 'Answer the following question. \n",
       "...    math   \n",
       "3  [{'content': 'Answer the following question. \n",
       "...    math   \n",
       "4  [{'content': 'Answer the following question. \n",
       "...    math   \n",
       "\n",
       "                                        reward_model  \\\n",
       "0  {'ground_truth': {'target': '[0, \\\\frac{1}{2}]...   \n",
       "1  {'ground_truth': {'target': '\\\\sqrt{21}'}, 'st...   \n",
       "2  {'ground_truth': {'target': 'y = 2x'}, 'style'...   \n",
       "3  {'ground_truth': {'target': '-2 \\\\text{ or } 1...   \n",
       "4  {'ground_truth': {'target': '2\\\\sqrt{2}'}, 'st...   \n",
       "\n",
       "                       extra_info  \n",
       "0  {'index': 0, 'split': 'train'}  \n",
       "1  {'index': 1, 'split': 'train'}  \n",
       "2  {'index': 2, 'split': 'train'}  \n",
       "3  {'index': 3, 'split': 'train'}  \n",
       "4  {'index': 4, 'split': 'train'}  "
      ]
     },
     "execution_count": 5,
     "metadata": {},
     "output_type": "execute_result"
    }
   ],
   "source": [
    "df.head()"
   ]
  },
  {
   "cell_type": "code",
   "execution_count": 11,
   "metadata": {},
   "outputs": [
    {
     "data": {
      "text/plain": [
       "{'ground_truth': {'target': '[0, \\\\\\\\frac{1}{2}]'}, 'style': 'rule'}"
      ]
     },
     "execution_count": 11,
     "metadata": {},
     "output_type": "execute_result"
    }
   ],
   "source": [
    "df.head()['reward_model'][0]"
   ]
  },
  {
   "cell_type": "code",
   "execution_count": 12,
   "metadata": {},
   "outputs": [
    {
     "data": {
      "text/plain": [
       "{'ground_truth': {'target': array(['2,718'], dtype=object)}, 'style': 'rule'}"
      ]
     },
     "execution_count": 12,
     "metadata": {},
     "output_type": "execute_result"
    }
   ],
   "source": [
    "df_1.head()['reward_model'][0]"
   ]
  },
  {
   "cell_type": "code",
   "execution_count": 1,
   "metadata": {},
   "outputs": [
    {
     "data": {
      "text/plain": [
       "'[1, 2]'"
      ]
     },
     "execution_count": 1,
     "metadata": {},
     "output_type": "execute_result"
    }
   ],
   "source": [
    "a = [1, 2]\n",
    "str(a)"
   ]
  },
  {
   "cell_type": "code",
   "execution_count": null,
   "metadata": {},
   "outputs": [],
   "source": []
  }
 ],
 "metadata": {
  "kernelspec": {
   "display_name": "r1",
   "language": "python",
   "name": "python3"
  },
  "language_info": {
   "codemirror_mode": {
    "name": "ipython",
    "version": 3
   },
   "file_extension": ".py",
   "mimetype": "text/x-python",
   "name": "python",
   "nbconvert_exporter": "python",
   "pygments_lexer": "ipython3",
   "version": "3.10.16"
  }
 },
 "nbformat": 4,
 "nbformat_minor": 2
}
