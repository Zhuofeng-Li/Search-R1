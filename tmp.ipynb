{
 "cells": [
  {
   "cell_type": "code",
   "execution_count": 1,
   "metadata": {},
   "outputs": [],
   "source": [
    "def _execute_code(code: str) -> str:\n",
    "    # Create a string buffer to capture output\n",
    "    import io\n",
    "    import sys\n",
    "    import traceback\n",
    "    output_buffer = io.StringIO()\n",
    "    error_buffer = io.StringIO()\n",
    "    \n",
    "    try:\n",
    "        # Redirect both stdout and stderr to our buffers\n",
    "        sys.stdout = output_buffer # TODO: update\n",
    "        sys.stderr = error_buffer # TODO: update\n",
    "        \n",
    "        # Execute the code in a safe environment\n",
    "        exec_globals = {}\n",
    "        exec(code, exec_globals)\n",
    "\n",
    "        return output_buffer.getvalue()\n",
    "        \n",
    "    except Exception as e:\n",
    "        # Capture both the normal output and the error\n",
    "        # output = output_buffer.getvalue()\n",
    "        error_msg = str(e)\n",
    "        # error_trace = traceback.format_exc()  # Get the full traceback\n",
    "        return f\"Exception: {error_msg}\" \n",
    "    \n",
    "    finally:\n",
    "        # Restore stdout and stderr\n",
    "        sys.stdout = sys.__stdout__\n",
    "        sys.stderr = sys.__stderr__\n",
    "        # Close buffers\n",
    "        output_buffer.close()\n",
    "        error_buffer.close()\n"
   ]
  },
  {
   "cell_type": "code",
   "execution_count": 2,
   "metadata": {},
   "outputs": [
    {
     "name": "stdout",
     "output_type": "stream",
     "text": [
      "Test 1 - Return ans variable:\n",
      "Result: \n",
      "\n",
      "Test 2 - Only print output:\n",
      "Result: Hello, World!\n",
      "This is a test\n",
      "\n",
      "\n",
      "Test 3 - Both ans and print:\n",
      "Result: This will be ignored\n",
      "This will also be ignored\n",
      "\n",
      "\n",
      "Test 4 - No output and no ans:\n",
      "Result: \n",
      "\n",
      "Test 5 - Error case:\n",
      "Result: Exception: division by zero\n",
      "\n",
      "Test 6 - Complex calculation:\n",
      "Result: \n"
     ]
    }
   ],
   "source": [
    "# 测试用例1：正常返回 ans 变量\n",
    "test_code1 = \"\"\"\n",
    "import math\n",
    "ans = math.pi * 2\n",
    "\"\"\"\n",
    "print(\"Test 1 - Return ans variable:\")\n",
    "print(f\"Result: {_execute_code(test_code1)}\")\n",
    "\n",
    "# 测试用例2：只有打印输出，没有 ans 变量\n",
    "test_code2 = \"\"\"\n",
    "print(\"Hello, World!\")\n",
    "print(\"This is a test\")\n",
    "\"\"\"\n",
    "print(\"\\nTest 2 - Only print output:\")\n",
    "print(f\"Result: {_execute_code(test_code2)}\")\n",
    "\n",
    "# 测试用例3：既有 ans 又有打印输出（应该返回 ans）\n",
    "test_code3 = \"\"\"\n",
    "print(\"This will be ignored\")\n",
    "ans = 42\n",
    "print(\"This will also be ignored\")\n",
    "\"\"\"\n",
    "print(\"\\nTest 3 - Both ans and print:\")\n",
    "print(f\"Result: {_execute_code(test_code3)}\")\n",
    "\n",
    "# 测试用例4：什么都没有\n",
    "test_code4 = \"\"\"\n",
    "x = 1 + 1  # just calculation\n",
    "\"\"\"\n",
    "print(\"\\nTest 4 - No output and no ans:\")\n",
    "print(f\"Result: {_execute_code(test_code4)}\")\n",
    "\n",
    "# 测试用例5：产生错误\n",
    "test_code5 = \"\"\"\n",
    "ans = 1/0  # Division by zero error\n",
    "\"\"\"\n",
    "print(\"\\nTest 5 - Error case:\")\n",
    "print(f\"Result: {_execute_code(test_code5)}\")\n",
    "\n",
    "# 测试用例6：复杂计算\n",
    "test_code6 = \"\"\"\n",
    "import math\n",
    "x = [1, 2, 3, 4, 5]\n",
    "ans = sum(x) * math.pi\n",
    "\"\"\"\n",
    "print(\"\\nTest 6 - Complex calculation:\")\n",
    "print(f\"Result: {_execute_code(test_code6)}\")"
   ]
  },
  {
   "cell_type": "code",
   "execution_count": 3,
   "metadata": {},
   "outputs": [],
   "source": [
    "1. how to solve function call in the code?"
   ]
  },
  {
   "cell_type": "code",
   "execution_count": 1,
   "metadata": {},
   "outputs": [
    {
     "name": "stdout",
     "output_type": "stream",
     "text": [
      "1\n"
     ]
    }
   ],
   "source": [
    "print(1)"
   ]
  },
  {
   "cell_type": "code",
   "execution_count": 5,
   "metadata": {},
   "outputs": [
    {
     "data": {
      "text/plain": [
       "''"
      ]
     },
     "execution_count": 5,
     "metadata": {},
     "output_type": "execute_result"
    }
   ],
   "source": [
    "result"
   ]
  },
  {
   "cell_type": "code",
   "execution_count": null,
   "metadata": {},
   "outputs": [],
   "source": [
    "# 1. implement based on baseretriver "
   ]
  },
  {
   "cell_type": "code",
   "execution_count": 2,
   "metadata": {},
   "outputs": [],
   "source": [
    "a = None\n",
    "b = []\n",
    "b.append(a)"
   ]
  },
  {
   "cell_type": "code",
   "execution_count": 3,
   "metadata": {},
   "outputs": [
    {
     "data": {
      "text/plain": [
       "[None]"
      ]
     },
     "execution_count": 3,
     "metadata": {},
     "output_type": "execute_result"
    }
   ],
   "source": [
    "b"
   ]
  },
  {
   "cell_type": "code",
   "execution_count": null,
   "metadata": {},
   "outputs": [],
   "source": []
  }
 ],
 "metadata": {
  "kernelspec": {
   "display_name": "r1",
   "language": "python",
   "name": "python3"
  },
  "language_info": {
   "codemirror_mode": {
    "name": "ipython",
    "version": 3
   },
   "file_extension": ".py",
   "mimetype": "text/x-python",
   "name": "python",
   "nbconvert_exporter": "python",
   "pygments_lexer": "ipython3",
   "version": "3.10.16"
  }
 },
 "nbformat": 4,
 "nbformat_minor": 2
}
